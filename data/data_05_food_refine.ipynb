{
 "cells": [
  {
   "cell_type": "code",
   "execution_count": 1,
   "metadata": {},
   "outputs": [],
   "source": [
    "import pandas as pd\n",
    "import numpy as np"
   ]
  },
  {
   "cell_type": "code",
   "execution_count": 2,
   "metadata": {},
   "outputs": [
    {
     "data": {
      "text/html": [
       "<div>\n",
       "<style scoped>\n",
       "    .dataframe tbody tr th:only-of-type {\n",
       "        vertical-align: middle;\n",
       "    }\n",
       "\n",
       "    .dataframe tbody tr th {\n",
       "        vertical-align: top;\n",
       "    }\n",
       "\n",
       "    .dataframe thead th {\n",
       "        text-align: right;\n",
       "    }\n",
       "</style>\n",
       "<table border=\"1\" class=\"dataframe\">\n",
       "  <thead>\n",
       "    <tr style=\"text-align: right;\">\n",
       "      <th></th>\n",
       "      <th>id</th>\n",
       "      <th>name</th>\n",
       "    </tr>\n",
       "  </thead>\n",
       "  <tbody>\n",
       "    <tr>\n",
       "      <th>0</th>\n",
       "      <td>1</td>\n",
       "      <td>소불고깃감</td>\n",
       "    </tr>\n",
       "    <tr>\n",
       "      <th>1</th>\n",
       "      <td>2</td>\n",
       "      <td>후추, 청주, 소금, 설탕, 고추장, 마늘, 식초, 깨, 참기름</td>\n",
       "    </tr>\n",
       "    <tr>\n",
       "      <th>2</th>\n",
       "      <td>3</td>\n",
       "      <td>크랜베리 말린것</td>\n",
       "    </tr>\n",
       "    <tr>\n",
       "      <th>3</th>\n",
       "      <td>4</td>\n",
       "      <td>어린잎 채소</td>\n",
       "    </tr>\n",
       "    <tr>\n",
       "      <th>4</th>\n",
       "      <td>5</td>\n",
       "      <td>오렌지마말레이드</td>\n",
       "    </tr>\n",
       "    <tr>\n",
       "      <th>...</th>\n",
       "      <td>...</td>\n",
       "      <td>...</td>\n",
       "    </tr>\n",
       "    <tr>\n",
       "      <th>4207</th>\n",
       "      <td>4208</td>\n",
       "      <td>잣 말린것</td>\n",
       "    </tr>\n",
       "    <tr>\n",
       "      <th>4208</th>\n",
       "      <td>4209</td>\n",
       "      <td>동원 불골뱅이 바로무침용</td>\n",
       "    </tr>\n",
       "    <tr>\n",
       "      <th>4209</th>\n",
       "      <td>4210</td>\n",
       "      <td>에멘탈치즈</td>\n",
       "    </tr>\n",
       "    <tr>\n",
       "      <th>4210</th>\n",
       "      <td>4211</td>\n",
       "      <td>카라멜</td>\n",
       "    </tr>\n",
       "    <tr>\n",
       "      <th>4211</th>\n",
       "      <td>4212</td>\n",
       "      <td>설탕 3 큰술</td>\n",
       "    </tr>\n",
       "  </tbody>\n",
       "</table>\n",
       "<p>4212 rows × 2 columns</p>\n",
       "</div>"
      ],
      "text/plain": [
       "        id                                 name\n",
       "0        1                                소불고깃감\n",
       "1        2  후추, 청주, 소금, 설탕, 고추장, 마늘, 식초, 깨, 참기름\n",
       "2        3                             크랜베리 말린것\n",
       "3        4                               어린잎 채소\n",
       "4        5                             오렌지마말레이드\n",
       "...    ...                                  ...\n",
       "4207  4208                                잣 말린것\n",
       "4208  4209                        동원 불골뱅이 바로무침용\n",
       "4209  4210                                에멘탈치즈\n",
       "4210  4211                                  카라멜\n",
       "4211  4212                              설탕 3 큰술\n",
       "\n",
       "[4212 rows x 2 columns]"
      ]
     },
     "execution_count": 2,
     "metadata": {},
     "output_type": "execute_result"
    }
   ],
   "source": [
    "df = pd.read_csv('식품.csv', sep=',', header=0)\n",
    "df"
   ]
  },
  {
   "cell_type": "code",
   "execution_count": 4,
   "metadata": {},
   "outputs": [],
   "source": [
    "# 괄호 안에 있는 문자 제거\n",
    "df['name'] = df['name'].str.replace(r\"\\(.*\\)\",\"\")\n",
    "\n",
    "# 특수문자 제거\n",
    "delete_list = ['(', ')', '%', \"'\", '\"', '`']\n",
    "\n",
    "for delete in delete_list:\n",
    "    df['name'] = df['name'].str.replace(delete, '')\n",
    "\n",
    "# 양쪽 공백 제거\n",
    "df['name'] = df['name'].str.strip()"
   ]
  },
  {
   "cell_type": "code",
   "execution_count": 6,
   "metadata": {},
   "outputs": [],
   "source": [
    "df.to_csv('식품_전처리.csv', index=False, encoding='utf-8-sig')"
   ]
  },
  {
   "cell_type": "code",
   "execution_count": null,
   "metadata": {},
   "outputs": [],
   "source": [
    "# \"name\",\"name\" 형식으로 바꾸기\n",
    "df = pd.read_csv('식품_전처리.csv', sep=',', header=0)\n",
    "df['name'] = '\"' + df['name'] + '\"'\n"
   ]
  }
 ],
 "metadata": {
  "kernelspec": {
   "display_name": "wemeet",
   "language": "python",
   "name": "python3"
  },
  "language_info": {
   "codemirror_mode": {
    "name": "ipython",
    "version": 3
   },
   "file_extension": ".py",
   "mimetype": "text/x-python",
   "name": "python",
   "nbconvert_exporter": "python",
   "pygments_lexer": "ipython3",
   "version": "3.9.18"
  }
 },
 "nbformat": 4,
 "nbformat_minor": 2
}
