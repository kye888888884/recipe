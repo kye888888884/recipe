{
 "cells": [
  {
   "cell_type": "code",
   "execution_count": 2,
   "metadata": {},
   "outputs": [],
   "source": [
    "import pandas as pd"
   ]
  },
  {
   "cell_type": "code",
   "execution_count": 5,
   "metadata": {},
   "outputs": [
    {
     "data": {
      "text/html": [
       "<div>\n",
       "<style scoped>\n",
       "    .dataframe tbody tr th:only-of-type {\n",
       "        vertical-align: middle;\n",
       "    }\n",
       "\n",
       "    .dataframe tbody tr th {\n",
       "        vertical-align: top;\n",
       "    }\n",
       "\n",
       "    .dataframe thead th {\n",
       "        text-align: right;\n",
       "    }\n",
       "</style>\n",
       "<table border=\"1\" class=\"dataframe\">\n",
       "  <thead>\n",
       "    <tr style=\"text-align: right;\">\n",
       "      <th></th>\n",
       "      <th>name</th>\n",
       "      <th>context</th>\n",
       "      <th>a</th>\n",
       "      <th>b</th>\n",
       "      <th>amounts</th>\n",
       "    </tr>\n",
       "  </thead>\n",
       "  <tbody>\n",
       "    <tr>\n",
       "      <th>0</th>\n",
       "      <td>갈릭 난</td>\n",
       "      <td>냉장고가 텅텅 비어있더라구요, 그럼 이럴때 주부를 구해주는 효자 메뉴가 있죠 바로 ...</td>\n",
       "      <td>0</td>\n",
       "      <td>1</td>\n",
       "      <td>['300g', '160g', '한스푼', '두 스푼', '5g', '5g', '5...</td>\n",
       "    </tr>\n",
       "    <tr>\n",
       "      <th>1</th>\n",
       "      <td>양배추롤</td>\n",
       "      <td>가을도 왔고.. 이제는 겨울의 문턱. 야채 코너를 지날 때면 양배추를 눈여겨 보며양...</td>\n",
       "      <td>1</td>\n",
       "      <td>2</td>\n",
       "      <td>['330-350g', '1/2개', '1개', '1/2공기', '1.5스푼', '...</td>\n",
       "    </tr>\n",
       "    <tr>\n",
       "      <th>2</th>\n",
       "      <td>태국식 홍합찜</td>\n",
       "      <td>런던의 유명음식점 중에.. 벨고(: Belgo)라 불리는 벨기에식 홍합 요리 전문점...</td>\n",
       "      <td>2</td>\n",
       "      <td>3</td>\n",
       "      <td>['1 kg', '1.5스푼', '8줄기', '1줄기', '2~3뿌리', '5쪽',...</td>\n",
       "    </tr>\n",
       "    <tr>\n",
       "      <th>3</th>\n",
       "      <td>듬직한 샌드위치</td>\n",
       "      <td>가을 피크닉에 어울리는 샌드위치입니다.####먼저 오븐 트레이에 쿠킹 호일을 깔고 ...</td>\n",
       "      <td>3</td>\n",
       "      <td>4</td>\n",
       "      <td>['1개', '1개', '1 개', '1 개', '80g', '1 덩어리', '5장...</td>\n",
       "    </tr>\n",
       "    <tr>\n",
       "      <th>4</th>\n",
       "      <td>북경오리구이</td>\n",
       "      <td>중국 여행가시면.. 꼭 한번 먹어보고 오는 요리, 북경오리구이. 중국의 역사적인 인...</td>\n",
       "      <td>4</td>\n",
       "      <td>5</td>\n",
       "      <td>['1.1kg', '1/2개', '3~4뿌리', '2스푼', '100 g', '25...</td>\n",
       "    </tr>\n",
       "  </tbody>\n",
       "</table>\n",
       "</div>"
      ],
      "text/plain": [
       "       name                                            context  a  b  \\\n",
       "0     갈릭 난   냉장고가 텅텅 비어있더라구요, 그럼 이럴때 주부를 구해주는 효자 메뉴가 있죠 바로 ...  0  1   \n",
       "1      양배추롤  가을도 왔고.. 이제는 겨울의 문턱. 야채 코너를 지날 때면 양배추를 눈여겨 보며양...  1  2   \n",
       "2   태국식 홍합찜  런던의 유명음식점 중에.. 벨고(: Belgo)라 불리는 벨기에식 홍합 요리 전문점...  2  3   \n",
       "3  듬직한 샌드위치  가을 피크닉에 어울리는 샌드위치입니다.####먼저 오븐 트레이에 쿠킹 호일을 깔고 ...  3  4   \n",
       "4    북경오리구이  중국 여행가시면.. 꼭 한번 먹어보고 오는 요리, 북경오리구이. 중국의 역사적인 인...  4  5   \n",
       "\n",
       "                                             amounts  \n",
       "0  ['300g', '160g', '한스푼', '두 스푼', '5g', '5g', '5...  \n",
       "1  ['330-350g', '1/2개', '1개', '1/2공기', '1.5스푼', '...  \n",
       "2  ['1 kg', '1.5스푼', '8줄기', '1줄기', '2~3뿌리', '5쪽',...  \n",
       "3  ['1개', '1개', '1 개', '1 개', '80g', '1 덩어리', '5장...  \n",
       "4  ['1.1kg', '1/2개', '3~4뿌리', '2스푼', '100 g', '25...  "
      ]
     },
     "execution_count": 5,
     "metadata": {},
     "output_type": "execute_result"
    }
   ],
   "source": [
    "df_recipe = pd.read_csv('레시피.csv')\n",
    "df_recipe.head()"
   ]
  },
  {
   "cell_type": "code",
   "execution_count": 7,
   "metadata": {},
   "outputs": [
    {
     "data": {
      "text/plain": [
       "4275"
      ]
     },
     "execution_count": 7,
     "metadata": {},
     "output_type": "execute_result"
    }
   ],
   "source": [
    "len(df_recipe)"
   ]
  },
  {
   "cell_type": "code",
   "execution_count": 5,
   "metadata": {},
   "outputs": [
    {
     "data": {
      "text/html": [
       "<div>\n",
       "<style scoped>\n",
       "    .dataframe tbody tr th:only-of-type {\n",
       "        vertical-align: middle;\n",
       "    }\n",
       "\n",
       "    .dataframe tbody tr th {\n",
       "        vertical-align: top;\n",
       "    }\n",
       "\n",
       "    .dataframe thead th {\n",
       "        text-align: right;\n",
       "    }\n",
       "</style>\n",
       "<table border=\"1\" class=\"dataframe\">\n",
       "  <thead>\n",
       "    <tr style=\"text-align: right;\">\n",
       "      <th></th>\n",
       "      <th>id</th>\n",
       "      <th>recipe_id</th>\n",
       "      <th>amount</th>\n",
       "    </tr>\n",
       "  </thead>\n",
       "  <tbody>\n",
       "    <tr>\n",
       "      <th>0</th>\n",
       "      <td>0</td>\n",
       "      <td>1</td>\n",
       "      <td>['300g', '160g', '한스푼', '두 스푼', '5g', '5g', '5...</td>\n",
       "    </tr>\n",
       "    <tr>\n",
       "      <th>1</th>\n",
       "      <td>1</td>\n",
       "      <td>2</td>\n",
       "      <td>['330-350g', '1/2개', '1개', '1/2공기', '1.5스푼', '...</td>\n",
       "    </tr>\n",
       "    <tr>\n",
       "      <th>2</th>\n",
       "      <td>2</td>\n",
       "      <td>3</td>\n",
       "      <td>['1 kg', '1.5스푼', '8줄기', '1줄기', '2~3뿌리', '5쪽',...</td>\n",
       "    </tr>\n",
       "    <tr>\n",
       "      <th>3</th>\n",
       "      <td>3</td>\n",
       "      <td>4</td>\n",
       "      <td>['1개', '1개', '1 개', '1 개', '80g', '1 덩어리', '5장...</td>\n",
       "    </tr>\n",
       "    <tr>\n",
       "      <th>4</th>\n",
       "      <td>4</td>\n",
       "      <td>5</td>\n",
       "      <td>['1.1kg', '1/2개', '3~4뿌리', '2스푼', '100 g', '25...</td>\n",
       "    </tr>\n",
       "  </tbody>\n",
       "</table>\n",
       "</div>"
      ],
      "text/plain": [
       "   id  recipe_id                                             amount\n",
       "0   0          1  ['300g', '160g', '한스푼', '두 스푼', '5g', '5g', '5...\n",
       "1   1          2  ['330-350g', '1/2개', '1개', '1/2공기', '1.5스푼', '...\n",
       "2   2          3  ['1 kg', '1.5스푼', '8줄기', '1줄기', '2~3뿌리', '5쪽',...\n",
       "3   3          4  ['1개', '1개', '1 개', '1 개', '80g', '1 덩어리', '5장...\n",
       "4   4          5  ['1.1kg', '1/2개', '3~4뿌리', '2스푼', '100 g', '25..."
      ]
     },
     "execution_count": 5,
     "metadata": {},
     "output_type": "execute_result"
    }
   ],
   "source": [
    "df_amount = pd.read_csv('양.csv')\n",
    "df_amount.head()"
   ]
  },
  {
   "cell_type": "code",
   "execution_count": 8,
   "metadata": {},
   "outputs": [
    {
     "data": {
      "text/plain": [
       "4275"
      ]
     },
     "execution_count": 8,
     "metadata": {},
     "output_type": "execute_result"
    }
   ],
   "source": [
    "len(df_amount)"
   ]
  },
  {
   "cell_type": "code",
   "execution_count": 9,
   "metadata": {},
   "outputs": [
    {
     "data": {
      "text/html": [
       "<div>\n",
       "<style scoped>\n",
       "    .dataframe tbody tr th:only-of-type {\n",
       "        vertical-align: middle;\n",
       "    }\n",
       "\n",
       "    .dataframe tbody tr th {\n",
       "        vertical-align: top;\n",
       "    }\n",
       "\n",
       "    .dataframe thead th {\n",
       "        text-align: right;\n",
       "    }\n",
       "</style>\n",
       "<table border=\"1\" class=\"dataframe\">\n",
       "  <thead>\n",
       "    <tr style=\"text-align: right;\">\n",
       "      <th></th>\n",
       "      <th>recipe_title</th>\n",
       "      <th>recipe_context</th>\n",
       "      <th>id</th>\n",
       "      <th>recipe_id</th>\n",
       "      <th>amount</th>\n",
       "    </tr>\n",
       "  </thead>\n",
       "  <tbody>\n",
       "    <tr>\n",
       "      <th>0</th>\n",
       "      <td>갈릭 난</td>\n",
       "      <td>냉장고가 텅텅 비어있더라구요, 그럼 이럴때 주부를 구해주는 효자 메뉴가 있죠 바로 ...</td>\n",
       "      <td>0</td>\n",
       "      <td>1</td>\n",
       "      <td>['300g', '160g', '한스푼', '두 스푼', '5g', '5g', '5...</td>\n",
       "    </tr>\n",
       "    <tr>\n",
       "      <th>1</th>\n",
       "      <td>양배추롤</td>\n",
       "      <td>가을도 왔고.. 이제는 겨울의 문턱. 야채 코너를 지날 때면 양배추를 눈여겨 보며양...</td>\n",
       "      <td>1</td>\n",
       "      <td>2</td>\n",
       "      <td>['330-350g', '1/2개', '1개', '1/2공기', '1.5스푼', '...</td>\n",
       "    </tr>\n",
       "    <tr>\n",
       "      <th>2</th>\n",
       "      <td>태국식 홍합찜</td>\n",
       "      <td>런던의 유명음식점 중에.. 벨고(: Belgo)라 불리는 벨기에식 홍합 요리 전문점...</td>\n",
       "      <td>2</td>\n",
       "      <td>3</td>\n",
       "      <td>['1 kg', '1.5스푼', '8줄기', '1줄기', '2~3뿌리', '5쪽',...</td>\n",
       "    </tr>\n",
       "    <tr>\n",
       "      <th>3</th>\n",
       "      <td>듬직한 샌드위치</td>\n",
       "      <td>가을 피크닉에 어울리는 샌드위치입니다.####먼저 오븐 트레이에 쿠킹 호일을 깔고 ...</td>\n",
       "      <td>3</td>\n",
       "      <td>4</td>\n",
       "      <td>['1개', '1개', '1 개', '1 개', '80g', '1 덩어리', '5장...</td>\n",
       "    </tr>\n",
       "    <tr>\n",
       "      <th>4</th>\n",
       "      <td>북경오리구이</td>\n",
       "      <td>중국 여행가시면.. 꼭 한번 먹어보고 오는 요리, 북경오리구이. 중국의 역사적인 인...</td>\n",
       "      <td>4</td>\n",
       "      <td>5</td>\n",
       "      <td>['1.1kg', '1/2개', '3~4뿌리', '2스푼', '100 g', '25...</td>\n",
       "    </tr>\n",
       "  </tbody>\n",
       "</table>\n",
       "</div>"
      ],
      "text/plain": [
       "  recipe_title                                     recipe_context  id  \\\n",
       "0        갈릭 난   냉장고가 텅텅 비어있더라구요, 그럼 이럴때 주부를 구해주는 효자 메뉴가 있죠 바로 ...   0   \n",
       "1         양배추롤  가을도 왔고.. 이제는 겨울의 문턱. 야채 코너를 지날 때면 양배추를 눈여겨 보며양...   1   \n",
       "2      태국식 홍합찜  런던의 유명음식점 중에.. 벨고(: Belgo)라 불리는 벨기에식 홍합 요리 전문점...   2   \n",
       "3     듬직한 샌드위치  가을 피크닉에 어울리는 샌드위치입니다.####먼저 오븐 트레이에 쿠킹 호일을 깔고 ...   3   \n",
       "4       북경오리구이  중국 여행가시면.. 꼭 한번 먹어보고 오는 요리, 북경오리구이. 중국의 역사적인 인...   4   \n",
       "\n",
       "   recipe_id                                             amount  \n",
       "0          1  ['300g', '160g', '한스푼', '두 스푼', '5g', '5g', '5...  \n",
       "1          2  ['330-350g', '1/2개', '1개', '1/2공기', '1.5스푼', '...  \n",
       "2          3  ['1 kg', '1.5스푼', '8줄기', '1줄기', '2~3뿌리', '5쪽',...  \n",
       "3          4  ['1개', '1개', '1 개', '1 개', '80g', '1 덩어리', '5장...  \n",
       "4          5  ['1.1kg', '1/2개', '3~4뿌리', '2스푼', '100 g', '25...  "
      ]
     },
     "execution_count": 9,
     "metadata": {},
     "output_type": "execute_result"
    }
   ],
   "source": [
    "df_recipe = pd.concat([df_recipe, df_amount], axis=1)\n",
    "df_recipe.head()"
   ]
  },
  {
   "cell_type": "code",
   "execution_count": 11,
   "metadata": {},
   "outputs": [],
   "source": [
    "df_recipe.to_csv('레시피.csv', index=True)"
   ]
  }
 ],
 "metadata": {
  "kernelspec": {
   "display_name": "wemeet",
   "language": "python",
   "name": "python3"
  },
  "language_info": {
   "codemirror_mode": {
    "name": "ipython",
    "version": 3
   },
   "file_extension": ".py",
   "mimetype": "text/x-python",
   "name": "python",
   "nbconvert_exporter": "python",
   "pygments_lexer": "ipython3",
   "version": "3.9.18"
  }
 },
 "nbformat": 4,
 "nbformat_minor": 2
}
