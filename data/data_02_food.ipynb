{
 "cells": [
  {
   "cell_type": "code",
   "execution_count": 1,
   "metadata": {},
   "outputs": [],
   "source": [
    "import pandas as pd"
   ]
  },
  {
   "cell_type": "code",
   "execution_count": 13,
   "metadata": {},
   "outputs": [
    {
     "data": {
      "text/html": [
       "<div>\n",
       "<style scoped>\n",
       "    .dataframe tbody tr th:only-of-type {\n",
       "        vertical-align: middle;\n",
       "    }\n",
       "\n",
       "    .dataframe tbody tr th {\n",
       "        vertical-align: top;\n",
       "    }\n",
       "\n",
       "    .dataframe thead th {\n",
       "        text-align: right;\n",
       "    }\n",
       "</style>\n",
       "<table border=\"1\" class=\"dataframe\">\n",
       "  <thead>\n",
       "    <tr style=\"text-align: right;\">\n",
       "      <th></th>\n",
       "      <th>id</th>\n",
       "      <th>name</th>\n",
       "    </tr>\n",
       "  </thead>\n",
       "  <tbody>\n",
       "    <tr>\n",
       "      <th>0</th>\n",
       "      <td>0</td>\n",
       "      <td>NaN</td>\n",
       "    </tr>\n",
       "    <tr>\n",
       "      <th>1</th>\n",
       "      <td>1</td>\n",
       "      <td>소불고깃감</td>\n",
       "    </tr>\n",
       "    <tr>\n",
       "      <th>2</th>\n",
       "      <td>2</td>\n",
       "      <td>후추, 청주, 소금, 설탕, 고추장, 마늘, 식초, 깨, 참기름</td>\n",
       "    </tr>\n",
       "    <tr>\n",
       "      <th>3</th>\n",
       "      <td>3</td>\n",
       "      <td>크랜베리 말린것</td>\n",
       "    </tr>\n",
       "    <tr>\n",
       "      <th>4</th>\n",
       "      <td>4</td>\n",
       "      <td>어린잎 채소</td>\n",
       "    </tr>\n",
       "    <tr>\n",
       "      <th>5</th>\n",
       "      <td>5</td>\n",
       "      <td>오렌지마말레이드</td>\n",
       "    </tr>\n",
       "    <tr>\n",
       "      <th>6</th>\n",
       "      <td>6</td>\n",
       "      <td>먹다남은닭갈비</td>\n",
       "    </tr>\n",
       "    <tr>\n",
       "      <th>7</th>\n",
       "      <td>7</td>\n",
       "      <td>빠르미쟈노 치즈</td>\n",
       "    </tr>\n",
       "    <tr>\n",
       "      <th>8</th>\n",
       "      <td>8</td>\n",
       "      <td>등뼈</td>\n",
       "    </tr>\n",
       "    <tr>\n",
       "      <th>9</th>\n",
       "      <td>9</td>\n",
       "      <td>꽃상추</td>\n",
       "    </tr>\n",
       "    <tr>\n",
       "      <th>10</th>\n",
       "      <td>10</td>\n",
       "      <td>시즈닝가루</td>\n",
       "    </tr>\n",
       "    <tr>\n",
       "      <th>11</th>\n",
       "      <td>11</td>\n",
       "      <td>춘장기름</td>\n",
       "    </tr>\n",
       "    <tr>\n",
       "      <th>12</th>\n",
       "      <td>12</td>\n",
       "      <td>건멸치 큰것</td>\n",
       "    </tr>\n",
       "    <tr>\n",
       "      <th>13</th>\n",
       "      <td>13</td>\n",
       "      <td>게걸무</td>\n",
       "    </tr>\n",
       "    <tr>\n",
       "      <th>14</th>\n",
       "      <td>14</td>\n",
       "      <td>레몬에이드 파우더</td>\n",
       "    </tr>\n",
       "  </tbody>\n",
       "</table>\n",
       "</div>"
      ],
      "text/plain": [
       "    id                                 name\n",
       "0    0                                  NaN\n",
       "1    1                                소불고깃감\n",
       "2    2  후추, 청주, 소금, 설탕, 고추장, 마늘, 식초, 깨, 참기름\n",
       "3    3                             크랜베리 말린것\n",
       "4    4                               어린잎 채소\n",
       "5    5                             오렌지마말레이드\n",
       "6    6                              먹다남은닭갈비\n",
       "7    7                             빠르미쟈노 치즈\n",
       "8    8                                   등뼈\n",
       "9    9                                  꽃상추\n",
       "10  10                                시즈닝가루\n",
       "11  11                                 춘장기름\n",
       "12  12                               건멸치 큰것\n",
       "13  13                                  게걸무\n",
       "14  14                            레몬에이드 파우더"
      ]
     },
     "execution_count": 13,
     "metadata": {},
     "output_type": "execute_result"
    }
   ],
   "source": [
    "df_food = pd.read_csv('식품.csv')\n",
    "df_food.head(15)"
   ]
  },
  {
   "cell_type": "code",
   "execution_count": 11,
   "metadata": {},
   "outputs": [
    {
     "data": {
      "text/plain": [
       "34951"
      ]
     },
     "execution_count": 11,
     "metadata": {},
     "output_type": "execute_result"
    }
   ],
   "source": [
    "df_ingr = pd.read_csv('raw/재료id_drop.csv')\n",
    "df_ingr = df_ingr.dropna(subset=['ingredient'])\n",
    "len(df_ingr)"
   ]
  },
  {
   "cell_type": "code",
   "execution_count": 15,
   "metadata": {},
   "outputs": [
    {
     "name": "stdout",
     "output_type": "stream",
     "text": [
      "34900/34951\r"
     ]
    }
   ],
   "source": [
    "# 재료 id 식품에 맞게 수정\n",
    "ingr_id = []\n",
    "for i in range(len(df_ingr)):\n",
    "    # df_food에서 df_ingr['ingredient'][i]와 같은 행의 id열의 값 찾기\n",
    "    for j in range(len(df_food)):\n",
    "        food = df_food['name'][j]\n",
    "        ingr = df_ingr['ingredient'][i]\n",
    "        if food == ingr:\n",
    "            break\n",
    "    ingr_id.append(j)\n",
    "    if i % 100 == 0:\n",
    "        print(f\"{i}/{len(df_ingr)}\", end='\\r')"
   ]
  },
  {
   "cell_type": "code",
   "execution_count": 18,
   "metadata": {},
   "outputs": [],
   "source": [
    "df_ingr_id = pd.DataFrame(ingr_id, columns=['ingr_id'])"
   ]
  },
  {
   "cell_type": "code",
   "execution_count": 20,
   "metadata": {},
   "outputs": [],
   "source": [
    "# df_ingr의 recipe_id, ingr_id 열을 정수형으로 변경\n",
    "# df_ingr['recipe_id'] = df_ingr['recipe_id'].astype(int)\n",
    "# df_ingr['ingr_id'] = df_ingr['ingr_id'].astype(int)\n",
    "df_ingr.drop(['ingredient_id'], axis=1, inplace=True)\n",
    "df_ingr = pd.concat([df_ingr, df_ingr_id], axis=1)"
   ]
  },
  {
   "cell_type": "code",
   "execution_count": 22,
   "metadata": {},
   "outputs": [],
   "source": [
    "df_ingr.drop(['ingredient'], axis=1, inplace=True)"
   ]
  },
  {
   "cell_type": "code",
   "execution_count": 23,
   "metadata": {},
   "outputs": [],
   "source": [
    "df_ingr.to_csv('raw/재료.csv', index=True)"
   ]
  },
  {
   "cell_type": "code",
   "execution_count": 3,
   "metadata": {},
   "outputs": [],
   "source": [
    "df_food = pd.read_csv('식품.csv')"
   ]
  },
  {
   "cell_type": "code",
   "execution_count": 5,
   "metadata": {},
   "outputs": [],
   "source": [
    "food_list = df_food['name'].tolist()"
   ]
  },
  {
   "cell_type": "code",
   "execution_count": 6,
   "metadata": {},
   "outputs": [],
   "source": [
    "food_list = list(set(food_list))"
   ]
  },
  {
   "cell_type": "code",
   "execution_count": 7,
   "metadata": {},
   "outputs": [
    {
     "name": "stdout",
     "output_type": "stream",
     "text": [
      "4716\n",
      "4213\n"
     ]
    }
   ],
   "source": [
    "print(len(df_food))\n",
    "print(len(food_list))"
   ]
  },
  {
   "cell_type": "code",
   "execution_count": 8,
   "metadata": {},
   "outputs": [],
   "source": [
    "df_food = pd.DataFrame(food_list, columns=['name'])\n",
    "df_food.to_csv('식품.csv', index=True)"
   ]
  }
 ],
 "metadata": {
  "kernelspec": {
   "display_name": "wemeet",
   "language": "python",
   "name": "python3"
  },
  "language_info": {
   "codemirror_mode": {
    "name": "ipython",
    "version": 3
   },
   "file_extension": ".py",
   "mimetype": "text/x-python",
   "name": "python",
   "nbconvert_exporter": "python",
   "pygments_lexer": "ipython3",
   "version": "3.9.18"
  }
 },
 "nbformat": 4,
 "nbformat_minor": 2
}
